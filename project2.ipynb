{
  "nbformat": 4,
  "nbformat_minor": 0,
  "metadata": {
    "colab": {
      "provenance": [],
      "include_colab_link": true
    },
    "kernelspec": {
      "name": "python3",
      "display_name": "Python 3"
    },
    "language_info": {
      "name": "python"
    }
  },
  "cells": [
    {
      "cell_type": "markdown",
      "metadata": {
        "id": "view-in-github",
        "colab_type": "text"
      },
      "source": [
        "<a href=\"https://colab.research.google.com/github/Vashusingh44/cap-comp215/blob/main/project2.ipynb\" target=\"_parent\"><img src=\"https://colab.research.google.com/assets/colab-badge.svg\" alt=\"Open In Colab\"/></a>"
      ]
    },
    {
      "cell_type": "markdown",
      "source": [
        "LANGTON'S ANT\n",
        "\n",
        "Contributors: Arshpreet Singh, Vashu Singh\n",
        "\n",
        "In this notebook we have created a 2D animation of Langton's Ant. In first code block, we will import all the required imports\n"
      ],
      "metadata": {
        "id": "jGkq3r2AT-Kf"
      }
    },
    {
      "cell_type": "code",
      "execution_count": null,
      "metadata": {
        "id": "lYghzrxNrvZz"
      },
      "outputs": [],
      "source": [
        "import matplotlib.pyplot as plt\n",
        "import numpy as np\n",
        "import time\n",
        "from matplotlib import animation\n",
        "import random"
      ]
    },
    {
      "cell_type": "markdown",
      "source": [
        "The following plot_2d_array function is for plotting 2d Array."
      ],
      "metadata": {
        "id": "RYIEHo01UDX0"
      }
    },
    {
      "cell_type": "code",
      "source": [
        "def plot_2d_array(array, axes=None, title='', cmap='Greys', **options):\n",
        "    \"\"\"\n",
        "    Plot the 2D array as an image on the given axes  1's will be black, 0's will be white.\n",
        "\n",
        "    :param axes: the axes to plot on, or None to use the `plt.gca()` (current axes)\n",
        "    :param options: keyword arguments passed directly to `plt.imshow()`\n",
        "           see https://matplotlib.org/stable/api/_as_gen/matplotlib.axes.Axes.imshow.html\n",
        "    \"\"\"\n",
        "    axes = axes or plt.gca()  # If not axes are provided, draw on current axes\n",
        "    axes.set_title(title)\n",
        "    # Turn off axes labels and tick marks\n",
        "    axes.tick_params(axis='both', which='both', bottom=False, top=False, left=False, right=False ,\n",
        "                     labelbottom=False, labeltop=False, labelleft=False, labelright=False,)\n",
        "    # Defaults for displaying a \"matrix\" with hard-pixel boundaries and (0,0) at top-left\n",
        "    options = {**dict(interpolation='nearest', origin='upper'), **options}\n",
        "    axes.imshow(array, cmap=cmap, **options)"
      ],
      "metadata": {
        "id": "LN3_j-zIbbEC"
      },
      "execution_count": null,
      "outputs": []
    },
    {
      "cell_type": "markdown",
      "source": [
        "Now we have Animation 2D class which uses matplotlib to animate the model with a step() and draw() method."
      ],
      "metadata": {
        "id": "H64dyTzqS5Hm"
      }
    },
    {
      "cell_type": "code",
      "source": [
        "class Animation2D:      #animation class is used from lab 7\n",
        "    \"\"\"\n",
        "      Animates any 2D model with a step() method and a draw() method, using matplotlib\n",
        "      model.step() should take no parameters - just step the model forward one step.\n",
        "      model.draw() should take 2 parameters, the matpltolib axes to draw on and an integer step number\n",
        "    \"\"\"\n",
        "\n",
        "    def __init__(self, model, frames=50, figsize=(8, 8)):\n",
        "        \"\"\"\n",
        "        :param model: the simulation object to animate, with step() and draw(axes, step) methods\n",
        "        :param frames: number of animation frames to generate\n",
        "        \"\"\"\n",
        "        self.model = model\n",
        "        self.frames = frames\n",
        "        self.fig, self.ax = plt.subplots(figsize=figsize)\n",
        "\n",
        "    def animation_step(self, step):\n",
        "        \"\"\" Step the model forward and draw the plot \"\"\"\n",
        "        if step > 0:\n",
        "            self.model.step()\n",
        "        self.model.draw(self.ax, step=step)\n",
        "\n",
        "    def show(self):\n",
        "        \"\"\" return the matplotlib animation object, ready for display \"\"\"\n",
        "        anim = animation.FuncAnimation(self.fig, self.animation_step, frames=self.frames)\n",
        "        plt.close()  # this ensures the last frame is not shown as a separate plot\n",
        "        return anim\n",
        "\n",
        "    def animate(self, interval=None):\n",
        "        \"\"\" Animate the model simulation directly in the notebook display block \"\"\"\n",
        "        from IPython.display import clear_output\n",
        "        try:\n",
        "            for i in range(self.frames):\n",
        "                clear_output(wait=True)\n",
        "                self.ax.clear()\n",
        "                plt.figure(self.fig)\n",
        "                self.animation_step(i)\n",
        "                plt.show()\n",
        "                if interval:\n",
        "                    time.sleep(interval)\n",
        "        except KeyboardInterrupt:\n",
        "            pass"
      ],
      "metadata": {
        "id": "MPK_DCOEggSp"
      },
      "execution_count": null,
      "outputs": []
    },
    {
      "cell_type": "markdown",
      "source": [
        "Next, the Following Ant class represents an individual ant in Langton's Ant simulation.Each ant has a position and a direction. The directions for the ant are represented by the constants UP, RIGHT, DOWN, and LEFT, with integer values 0, 1, 2, and 3 respectively. Upon initialization, an ant object is created with a random initial direction chosen from these four directions. The ant's position is specified as a list containing its x and y coordinates.\n",
        "\n",
        "The Rules for Langon's ant are:\n",
        "\n",
        "1)At a white square, turn 90° clockwise, flip the color of the square, move forward one unit\n",
        "\n",
        "2)At a black square, turn 90° counter-clockwise, flip the color of the square, move forward one unit"
      ],
      "metadata": {
        "id": "JBi_LwpNZAN8"
      }
    },
    {
      "cell_type": "code",
      "source": [
        "import numpy as np\n",
        "import matplotlib.pyplot as plt\n",
        "import random\n",
        "\n",
        "class Ant:\n",
        "    UP, RIGHT, DOWN, LEFT = 0, 1, 2, 3  # Directions for Ant\n",
        "\n",
        "    def __init__(self, pos):\n",
        "        self.pos = pos\n",
        "        self.dir = random.choice([self.LEFT, self.UP, self.RIGHT, self.DOWN])\n",
        "\n",
        "class Ant2D:\n",
        "    WHITE = 0    # Ground color\n",
        "    BLACK = 1    # Ground color\n",
        "\n",
        "    def __init__(self, size, ants):\n",
        "        ''' This function initializes the object by taking the size of ground and ant's initial direction as input '''\n",
        "        self.size = size\n",
        "        self.ground = np.zeros((size, size), dtype=np.uint8)\n",
        "        self.ants = ants\n",
        "\n",
        "    def step(self):\n",
        "        for ant in self.ants:\n",
        "            if self.ground[ant.pos[0], ant.pos[1]] == self.WHITE:\n",
        "                self.ground[ant.pos[0], ant.pos[1]] = self.BLACK\n",
        "                ant.dir = (ant.dir + 1) % 4\n",
        "            else:\n",
        "                self.ground[ant.pos[0], ant.pos[1]] = self.WHITE\n",
        "                ant.dir = (ant.dir - 1) % 4\n",
        "\n",
        "            if ant.dir == ant.UP:\n",
        "                ant.pos[0] -= 1\n",
        "            elif ant.dir == ant.RIGHT:\n",
        "                ant.pos[1] += 1\n",
        "            elif ant.dir == ant.DOWN:\n",
        "                ant.pos[0] += 1\n",
        "            elif ant.dir == ant.LEFT:\n",
        "                ant.pos[1] -= 1\n",
        "\n",
        "    def draw(self, ax, step=''):    #draw function modified with the help of chatgpt for better visualization\n",
        "        ax.clear()\n",
        "        ax.imshow(self.ground, cmap='bone', interpolation='nearest')  # different colormap for visualization\n",
        "        for ant in self.ants:\n",
        "            ax.scatter(ant.pos[1], ant.pos[0], color='red', marker='o', s=50)  # Represents ants with red circles\n",
        "        ax.set_title(f\"Langton's Ant {step}\")\n",
        "        ax.axis('off')\n"
      ],
      "metadata": {
        "id": "wLK65y8ur677"
      },
      "execution_count": null,
      "outputs": []
    },
    {
      "cell_type": "markdown",
      "source": [
        "Example Usage"
      ],
      "metadata": {
        "id": "Hna4C3IYblch"
      }
    },
    {
      "cell_type": "code",
      "source": [
        "# Sample usage\n",
        "ant1 = Ant([25,25])  # Create an Ant object with initial position [25, 25]\n",
        "ant2 = Ant([35,35])  # Create an Ant object with initial position [50, 50]\n",
        "\n",
        "world = Ant2D(150,(ant2,ant1))\n",
        "\n",
        "# Create an animation object\n",
        "animm = Animation2D(world, frames=10000)\n",
        "\n",
        "# Display the animation\n",
        "animm.animate()\n",
        "\n",
        "\n"
      ],
      "metadata": {
        "colab": {
          "base_uri": "https://localhost:8080/",
          "height": 675
        },
        "id": "mny2zjsWftxp",
        "outputId": "68766fe4-1916-43d8-a29a-91155376b83c"
      },
      "execution_count": null,
      "outputs": [
        {
          "output_type": "display_data",
          "data": {
            "text/plain": [
              "<Figure size 800x800 with 1 Axes>"
            ],
            "image/png": "[encoded data removed]"
          },
          "metadata": {}
        }
      ]
    }
  ]
}