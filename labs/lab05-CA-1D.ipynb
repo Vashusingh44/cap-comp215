{
  "cells": [
    {
      "cell_type": "markdown",
      "metadata": {
        "collapsed": true,
        "pycharm": {
          "name": "#%% md\n"
        },
        "id": "ZA5a8nOcZZ_r"
      },
      "source": [
        "COMP 215 - LAB 5 (Elementary Cellular Automata)\n",
        "-----------------------------------------------\n",
        "#### Name:\n",
        "#### Date:\n",
        "\n",
        "This lab exercise is an introduction to the elementary [Cellular Automata](https://en.wikipedia.org/wiki/Elementary_cellular_automaton) studied by [Stephen Wolfram](https://en.wikipedia.org/wiki/Stephen_Wolfram#Complex_systems_and_cellular_automata).\n",
        "\n",
        "**New Python concepts**:\n",
        "  * **[NumPy](https://numpy.org)** is an open-source scientific computing package.  We will be using numpy for the remainder of the term.\n",
        "  * 1D and 2D [array](https://numpy.org/doc/stable/reference/generated/numpy.array.html) -  a rectangular grid with efficient matrix operations.\n",
        "\n",
        "**New Computation concepts**:\n",
        "  * **bit sequence** (a.k.a. binary number) - using a sequence of 0's and 1's to efficiently represent a data structure and processes.\n",
        "\n",
        "**Credits**:\n",
        "    Code examples based on [Think Complexity, 2nd edition](https://thinkcomplex.com).\n",
        "    Copyright 2016 Allen Downey, [MIT License](http://opensource.org/licenses/MIT)\n",
        "\n",
        "As usual, the first code cell simply imports all the modules we'll be using..."
      ]
    },
    {
      "cell_type": "code",
      "execution_count": null,
      "outputs": [],
      "source": [
        "%matplotlib inline\n",
        "\n",
        "import matplotlib.pyplot as plt\n",
        "import numpy as np"
      ],
      "metadata": {
        "pycharm": {
          "name": "#%%\n"
        },
        "ExecuteTime": {
          "end_time": "2024-01-03T01:08:15.688738Z",
          "start_time": "2024-01-03T01:08:15.351290Z"
        },
        "id": "Tf4iIVHzZZ_t"
      }
    },
    {
      "cell_type": "markdown",
      "source": [
        "## CA Fundamentals\n",
        "Both the textbook and our week5 notebook develop some fundamental operations for simulating Elementary CA.\n",
        "Some of the code developed in class is reproduced here without deriving all the ideas - review `week05` notebook for the full story.\n",
        "The sliding dot product algorithm in `rule_indexes` is implemented with [numpy.correlate](https://numpy.org/doc/stable/reference/generated/numpy.correlate.html).  It's behaviour is identical to the derivation from class.\n",
        "\n",
        "#### Notes\n",
        "* we use `np.pad(array, 1, mode='wrap')` to pad state vector with 1 extra value at both ends, equal to the last value at the opposing end of the vector.  This strategy avoids [edge effects](https://en.wikipedia.org/wiki/Boundary_problem_(spatial_analysis)#Types_and_examples).\n",
        "* since the rule is an `np.array`, we use \"vector indexing\" here to index a whole row at once:  `next_row=rule[indexes]`  See `foundations/numpy_1D_arrays` for details.\n"
      ],
      "metadata": {
        "collapsed": false,
        "pycharm": {
          "name": "#%% md\n"
        },
        "id": "8EALwndPZZ_u"
      }
    },
    {
      "cell_type": "code",
      "execution_count": null,
      "outputs": [
        {
          "output_type": "display_data",
          "data": {
            "text/plain": [
              "<Figure size 640x480 with 1 Axes>"
            ],
            "image/png": "[encoded data removed]"
          },
          "metadata": {}
        }
      ],
      "source": [
        "POWERS_OF_2 = np.array((4, 2, 1))\n",
        "\n",
        "def rule_indexes(state):\n",
        "    \"\"\" Return vector of rule indexes - one index for each 3-cell neighbourhood in the CA state vector. \"\"\"\n",
        "    # numpy's version of the \"sliding dot product\" algorithm;  \"pad\" ends of state array with extra 0 cell to mitigate edge effects\n",
        "    return np.correlate(np.pad(state, 1, mode='constant'), POWERS_OF_2, mode='valid')\n",
        "\n",
        "assert all( rule_indexes(np.array([1,1,0,0,1,0,0,0])) == [3, 6, 4, 1, 2, 4, 0, 0] )\n",
        "\n",
        "\n",
        "def transition(state, rule):\n",
        "    \"\"\" Return the vector resulting from a transition of given CA state under the given 8-bit rule \"\"\"\n",
        "    indexes = rule_indexes(state)\n",
        "    return np.array(rule[indexes])  # \"vector indexing\" replaces: [rule[i] for i in indexes]\n",
        "\n",
        "rule_110 = (0,1,1,0,1,1,1,0)[::-1]\n",
        "assert all( transition(np.array((0,0,1,1,1,0,0,0,1,1,0)), np.array(rule_110)) == (0,1,1,0,1,0,0,1,1,1,0))\n",
        "\n",
        "\n",
        "# This algorithm is from the textbook - it uses numpy to do a decimal to binary conversion.\n",
        "def get_lookup_table(rule):\n",
        "    \"\"\"\n",
        "    Return the 8-bit transition vector for the given elementary CA rule number.\n",
        "    rule: int 0-255\n",
        "    returns: transition lookup table - a 8 element vector of 0s and 1s\n",
        "    \"\"\"\n",
        "    rule = np.array([rule], dtype=np.uint8)\n",
        "    return np.unpackbits(rule)[::-1]\n",
        "\n",
        "assert np.all( get_lookup_table(110) == rule_110 )\n",
        "\n",
        "\n",
        "def single_centre_array(n_cells):\n",
        "    \"\"\" Return a binary 1D array with given number of cells, all zeros except a single 1 in the centre cell \"\"\"\n",
        "    array = np.zeros(n_cells, dtype=np.uint8)\n",
        "    array[n_cells//2] = 1\n",
        "    return array\n",
        "\n",
        "assert np.all( single_centre_array(7) == (0,0,0,1,0,0,0) )\n",
        "\n",
        "\n",
        "def simulate_ca(n_cells, n_steps, rule):\n",
        "    \"\"\" Generate a CA with given number of cells, plot progression of rule for given number of time steps \"\"\"\n",
        "    start_state = single_centre_array(n_cells)\n",
        "    # create a stack of \"empty\" state vectors, one for each time step\n",
        "    ca_timesteps = np.vstack([start_state, np.zeros((n_steps, len(start_state)), dtype=np.uint8)])\n",
        "    # run the simulation\n",
        "    for t in range(1, n_steps):\n",
        "        ca_timesteps[t] = transition(ca_timesteps[t-1], rule)\n",
        "    return ca_timesteps\n",
        "\n",
        "\n",
        "def plot_ca(array, axes=None, title='', cmap='Blues', **options):\n",
        "    \"\"\"\n",
        "    Plot the 2D array as an image on the given axes  1's will be dark blue, 0's will be light blue.\n",
        "\n",
        "    :param axes: the axes to plot on, or None to use the `plt.gca()` (current axes)\n",
        "    :param options: keyword arguments passed directly to `plt.imshow()`\n",
        "           see https://matplotlib.org/stable/api/_as_gen/matplotlib.axes.Axes.imshow.html\n",
        "    \"\"\"\n",
        "    axes = axes or plt.gca()  # If not axes are provided, draw on current axes\n",
        "    axes.set(\n",
        "        title=title,\n",
        "        ylabel='Time Steps',\n",
        "    )\n",
        "    # Turn off axes labels and tick marks\n",
        "    axes.tick_params(axis='x', which='both', bottom=False, labelbottom=False)\n",
        "    # Defaults for displaying a \"matrix\" with hard-pixel boundaries and (0,0) at top-left\n",
        "    options = {**dict(interpolation='nearest', origin='upper'), **options}\n",
        "    axes.imshow(array, cmap=cmap, **options)\n",
        "\n",
        "rule_90 = get_lookup_table(90)\n",
        "ca_timesteps = simulate_ca(200, 100, rule_90)\n",
        "plot_ca(ca_timesteps, title=f'Rule 90')"
      ],
      "metadata": {
        "pycharm": {
          "name": "#%%\n"
        },
        "ExecuteTime": {
          "end_time": "2024-01-03T01:08:15.797057Z",
          "start_time": "2024-01-03T01:08:15.693838Z"
        },
        "id": "sgxHC_cYZZ_v",
        "outputId": "a64e7e20-afc9-4459-c5e1-cd74e181b1e4",
        "colab": {
          "base_uri": "https://localhost:8080/",
          "height": 317
        }
      }
    },
    {
      "cell_type": "markdown",
      "source": [
        "## Exercise 1: Additional Start States\n",
        "In Wolfram's original experiments, he starts with a CA that is all zeros except the centre cell.\n",
        "This is reproduced by the `single_centre_array` function above.\n",
        "It would be interesting to experiment with other start states...\n",
        "\n",
        "Write 2 functions, each of which returns a 1-D `numpy.array` (vector) configured in a specific state:\n",
        "1. `from_string_array` takes a text string of 0's and 1's and returns a 1D array with matching integer values\n",
        "2. `random_array` takes a float $ p where 0 <= p <= 1 $ as input and returns a 1D array $a$, where probability $a[i] == 1$ is $p$\n",
        "\n",
        "*Tip*: both problems are most easily solved using list comprehensions!"
      ],
      "metadata": {
        "collapsed": false,
        "pycharm": {
          "name": "#%% md\n"
        },
        "id": "UvbKJYhhZZ_w"
      }
    },
    {
      "cell_type": "code",
      "execution_count": null,
      "outputs": [
        {
          "output_type": "stream",
          "name": "stdout",
          "text": [
            "[0 0 0 1 0 0 0]\n",
            "[0, 1, 1, 1, 1, 0, 1, 0]\n"
          ]
        }
      ],
      "source": [
        "# Solution for Ex. 1 here...\n",
        "def from_string_array(str_1):\n",
        "  \"\"\"takes a text string of 0's and 1's and returns a 1D array with matching integer values\"\"\"\n",
        "  array = np.array([int(i) for i in str_1], dtype=np.uint8)\n",
        "  return array\n",
        "\n",
        "result_array = from_string_array(\"0001000\")\n",
        "print(result_array)\n",
        "\n",
        "\n",
        "def random_array(p, s):\n",
        "    \"\"\"\n",
        "    Generates a 1D array where the probability of each element being 1 is given by p and size of array by s.\n",
        "    \"\"\"\n",
        "    random_numbers = np.random.rand(s)    #learned about np.random.rand() from geeksforgeeks\n",
        "    array = [1 if rand_num < p else 0 for rand_num in random_numbers]\n",
        "\n",
        "    return array\n",
        "\n",
        "p = 0.6  # Probability of each element being 1\n",
        "s = 8  # Size of the 1D array\n",
        "result_array = random_array(p, s)\n",
        "print(result_array)\n",
        "\n",
        "\n",
        "\n",
        "\n",
        "\n",
        "\n"
      ],
      "metadata": {
        "pycharm": {
          "name": "#%%\n"
        },
        "ExecuteTime": {
          "end_time": "2024-01-03T01:08:15.800407Z",
          "start_time": "2024-01-03T01:08:15.797136Z"
        },
        "id": "6xCq8FkuZZ_x",
        "outputId": "f4e47a32-2608-4e2a-920b-a9d5dc54ed61",
        "colab": {
          "base_uri": "https://localhost:8080/"
        }
      }
    },
    {
      "cell_type": "markdown",
      "source": [
        "## Exercise 2: A Cell1D class\n",
        "Develop your own `Cell1D` class that uses the functions above to implement its fundamental operations.\n",
        "The `Cell1D` class from the textbook may provide some ideas, but you may find it more confusing than helpful.\n",
        "The goal here is to improve on the design of that class, so it might be better to just start over...\n",
        "\n",
        "* Initialize a `Cell1D` with a `rule` number and an array representing the CA `start_state`\n",
        "  *Tip*: initialize a 2-D array with just a single row to define the CA's data structure correctly.\n",
        "* Add a `simulate` method that takes the number of steps to simulate as input (note: my solution is just 4 lines of code)\n",
        "  *Tip*: you can reuse the algorithm from `simulate_ca` above.\n",
        "* Add a `step` method.  Unlike the textbook, our `step` method is just a convenience method - it just `simulate`s a single step.\n",
        "* Add a `draw` method.  Just call `plot_ca` to do the actual work.\n",
        "\n",
        "Note: this is *not* a `dataclass` - you will need an `__init__` method."
      ],
      "metadata": {
        "collapsed": false,
        "pycharm": {
          "name": "#%% md\n"
        },
        "id": "UngqETKeZZ_x"
      }
    },
    {
      "cell_type": "code",
      "execution_count": null,
      "outputs": [
        {
          "output_type": "stream",
          "name": "stdout",
          "text": [
            "array is \n",
            " [[0 0 0 0 0 0 0 0 0 0 0 0 0 0 0]]\n"
          ]
        }
      ],
      "source": [
        "\n",
        "class Cell1D:\n",
        "    ''' One-dimensional cellular automaton '''\n",
        "\n",
        "    def __init__(self, rule, start_state):\n",
        "        self.rule = rule\n",
        "        self.size = len(start_state)\n",
        "        self.array = np.array([start_state], dtype=np.uint8)\n",
        "\n",
        "    def __str__(self):\n",
        "        return f'array is \\n {self.array}'\n",
        "\n",
        "    def from_string_array(self, str_array):\n",
        "        \"\"\" Converts a string of 1s and 0s to an array\"\"\"\n",
        "        a = [int(i) for i in str_array]\n",
        "        return np.array(a)\n",
        "\n",
        "    def random_array(self, size, p=0.2):\n",
        "        \"\"\" Creates a random array given the probability and size\"\"\"\n",
        "        a = [1 if random.random()<p else 0 for i in range(size)]\n",
        "        return np.array(a)\n",
        "\n",
        "    def transition(self, array):\n",
        "        \"\"\" Transition rule for the cellular automaton\"\"\"\n",
        "        new_array = np.zeros_like(array)\n",
        "        for i in range(1, len(array) - 1):\n",
        "            new_array[0][i] = self.rule >> (4 * array[0][i - 1] + 2 * array[0][i] + array[0][i + 1]) & 1\n",
        "        return new_array\n",
        "\n",
        "    def simulate(self, n_steps):\n",
        "        \"\"\" Simulate the cellular automaton for given number of steps \"\"\"\n",
        "        ca_timesteps = [self.array.copy()]\n",
        "        for _ in range(n_steps):\n",
        "            self.array = self.transition(self.array)\n",
        "            ca_timesteps.append(self.array.copy())\n",
        "        return ca_timesteps\n",
        "\n",
        "    def step(self):\n",
        "        \"\"\" Simulate a single step \"\"\"\n",
        "        self.array = self.transition(self.array)\n",
        "        return self.array\n",
        "\n",
        "    def draw(self):\n",
        "        \"\"\" Draw the current state of the cellular automaton \"\"\"\n",
        "        for row in self.array:\n",
        "            print(''.join('X' if cell else ' ' for cell in row))\n",
        "\n",
        "# Example usage\n",
        "start_state = [0,0,0,0,0,0,0,0,0,0,0,0,0,0,0]  # Example start state\n",
        "a = Cell1D(120, start_state)\n",
        "print(a)\n"
      ],
      "metadata": {
        "pycharm": {
          "name": "#%%\n"
        },
        "ExecuteTime": {
          "end_time": "2024-01-02T07:20:38.932395Z",
          "start_time": "2024-01-02T07:20:38.899938Z"
        },
        "id": "zubUU6XEZZ_x",
        "outputId": "9807e1c7-ff3f-4f6e-d2c5-287f9602f9d1",
        "colab": {
          "base_uri": "https://localhost:8080/"
        }
      }
    },
    {
      "cell_type": "markdown",
      "source": [
        "## Run some Experiments\n",
        "With your new `Cell1D` class, run some experiments to explore the Elementary CA's.\n",
        "\n",
        "Wolfram identifies 4 \"classes\" of Elementary Cellular Automata:\n",
        "    a) rapidly converge to a uniform static state.\n",
        "    b) rapidly converge to a stable repeating pattern.\n",
        "    c) generate non-repeating, random states.\n",
        "    d) generate chaos, with areas of repetitive or stable states, but also structures that interact in complex ways.\n",
        "\n",
        "### Exercise 3\n",
        "\n",
        "1. It will be convenient to abstract the steps needed to construct, simulate, and draw a CA - develop a small `experiment` function to do so.\n",
        "\n",
        "2. Identify a rule that exemplifies each of the 4 CA classes.\n",
        "   Create a 2x2 grid of plots that shows an example simulation for each class of CA side-by-side.\n",
        "   You can simply re-purpose the example code below."
      ],
      "metadata": {
        "collapsed": false,
        "pycharm": {
          "name": "#%% md\n"
        },
        "id": "qSp-89WvZZ_y"
      }
    },
    {
      "cell_type": "code",
      "execution_count": null,
      "outputs": [
        {
          "output_type": "error",
          "ename": "TypeError",
          "evalue": "Invalid shape (101, 1, 101) for image data",
          "traceback": [
            "\u001b[0;31m---------------------------------------------------------------------------\u001b[0m",
            "\u001b[0;31mTypeError\u001b[0m                                 Traceback (most recent call last)",
            "\u001b[0;32m<ipython-input-11-e004f150db3b>\u001b[0m in \u001b[0;36m<cell line: 47>\u001b[0;34m()\u001b[0m\n\u001b[1;32m     46\u001b[0m \u001b[0mfig\u001b[0m\u001b[0;34m,\u001b[0m \u001b[0maxes\u001b[0m \u001b[0;34m=\u001b[0m \u001b[0mplt\u001b[0m\u001b[0;34m.\u001b[0m\u001b[0msubplots\u001b[0m\u001b[0;34m(\u001b[0m\u001b[0;36m2\u001b[0m\u001b[0;34m,\u001b[0m \u001b[0;36m2\u001b[0m\u001b[0;34m,\u001b[0m \u001b[0mfigsize\u001b[0m\u001b[0;34m=\u001b[0m\u001b[0;34m(\u001b[0m\u001b[0;36m12\u001b[0m\u001b[0;34m,\u001b[0m \u001b[0;36m8\u001b[0m\u001b[0;34m)\u001b[0m\u001b[0;34m)\u001b[0m\u001b[0;34m\u001b[0m\u001b[0;34m\u001b[0m\u001b[0m\n\u001b[1;32m     47\u001b[0m \u001b[0;32mfor\u001b[0m \u001b[0max\u001b[0m\u001b[0;34m,\u001b[0m \u001b[0mclass_label\u001b[0m \u001b[0;32min\u001b[0m \u001b[0mzip\u001b[0m\u001b[0;34m(\u001b[0m\u001b[0maxes\u001b[0m\u001b[0;34m.\u001b[0m\u001b[0mflat\u001b[0m\u001b[0;34m,\u001b[0m \u001b[0mclass_rules\u001b[0m\u001b[0;34m.\u001b[0m\u001b[0mkeys\u001b[0m\u001b[0;34m(\u001b[0m\u001b[0;34m)\u001b[0m\u001b[0;34m)\u001b[0m\u001b[0;34m:\u001b[0m\u001b[0;34m\u001b[0m\u001b[0;34m\u001b[0m\u001b[0m\n\u001b[0;32m---> 48\u001b[0;31m     \u001b[0mrun_ca_experiment\u001b[0m\u001b[0;34m(\u001b[0m\u001b[0mclass_rules\u001b[0m\u001b[0;34m[\u001b[0m\u001b[0mclass_label\u001b[0m\u001b[0;34m]\u001b[0m\u001b[0;34m,\u001b[0m \u001b[0mstart_states\u001b[0m\u001b[0;34m[\u001b[0m\u001b[0mclass_label\u001b[0m\u001b[0;34m]\u001b[0m\u001b[0;34m,\u001b[0m \u001b[0;36m100\u001b[0m\u001b[0;34m,\u001b[0m \u001b[0mtitles\u001b[0m\u001b[0;34m[\u001b[0m\u001b[0mclass_label\u001b[0m\u001b[0;34m]\u001b[0m\u001b[0;34m)\u001b[0m\u001b[0;34m\u001b[0m\u001b[0;34m\u001b[0m\u001b[0m\n\u001b[0m\u001b[1;32m     49\u001b[0m     \u001b[0max\u001b[0m\u001b[0;34m.\u001b[0m\u001b[0mset_title\u001b[0m\u001b[0;34m(\u001b[0m\u001b[0mtitles\u001b[0m\u001b[0;34m[\u001b[0m\u001b[0mclass_label\u001b[0m\u001b[0;34m]\u001b[0m\u001b[0;34m)\u001b[0m\u001b[0;34m\u001b[0m\u001b[0;34m\u001b[0m\u001b[0m\n\u001b[1;32m     50\u001b[0m \u001b[0;34m\u001b[0m\u001b[0m\n",
            "\u001b[0;32m<ipython-input-11-e004f150db3b>\u001b[0m in \u001b[0;36mrun_ca_experiment\u001b[0;34m(rule, start_state, n_steps, title)\u001b[0m\n\u001b[1;32m     16\u001b[0m \u001b[0;34m\u001b[0m\u001b[0m\n\u001b[1;32m     17\u001b[0m     \u001b[0;31m# Plot the CA\u001b[0m\u001b[0;34m\u001b[0m\u001b[0;34m\u001b[0m\u001b[0m\n\u001b[0;32m---> 18\u001b[0;31m     \u001b[0mplot_ca\u001b[0m\u001b[0;34m(\u001b[0m\u001b[0mca_timesteps\u001b[0m\u001b[0;34m,\u001b[0m \u001b[0mtitle\u001b[0m\u001b[0;34m=\u001b[0m\u001b[0mtitle\u001b[0m\u001b[0;34m)\u001b[0m\u001b[0;34m\u001b[0m\u001b[0;34m\u001b[0m\u001b[0m\n\u001b[0m\u001b[1;32m     19\u001b[0m \u001b[0;34m\u001b[0m\u001b[0m\n\u001b[1;32m     20\u001b[0m \u001b[0;34m\u001b[0m\u001b[0m\n",
            "\u001b[0;32m<ipython-input-8-ede93d85bffc>\u001b[0m in \u001b[0;36mplot_ca\u001b[0;34m(array, axes, title, cmap, **options)\u001b[0m\n\u001b[1;32m     68\u001b[0m     \u001b[0;31m# Defaults for displaying a \"matrix\" with hard-pixel boundaries and (0,0) at top-left\u001b[0m\u001b[0;34m\u001b[0m\u001b[0;34m\u001b[0m\u001b[0m\n\u001b[1;32m     69\u001b[0m     \u001b[0moptions\u001b[0m \u001b[0;34m=\u001b[0m \u001b[0;34m{\u001b[0m\u001b[0;34m**\u001b[0m\u001b[0mdict\u001b[0m\u001b[0;34m(\u001b[0m\u001b[0minterpolation\u001b[0m\u001b[0;34m=\u001b[0m\u001b[0;34m'nearest'\u001b[0m\u001b[0;34m,\u001b[0m \u001b[0morigin\u001b[0m\u001b[0;34m=\u001b[0m\u001b[0;34m'upper'\u001b[0m\u001b[0;34m)\u001b[0m\u001b[0;34m,\u001b[0m \u001b[0;34m**\u001b[0m\u001b[0moptions\u001b[0m\u001b[0;34m}\u001b[0m\u001b[0;34m\u001b[0m\u001b[0;34m\u001b[0m\u001b[0m\n\u001b[0;32m---> 70\u001b[0;31m     \u001b[0maxes\u001b[0m\u001b[0;34m.\u001b[0m\u001b[0mimshow\u001b[0m\u001b[0;34m(\u001b[0m\u001b[0marray\u001b[0m\u001b[0;34m,\u001b[0m \u001b[0mcmap\u001b[0m\u001b[0;34m=\u001b[0m\u001b[0mcmap\u001b[0m\u001b[0;34m,\u001b[0m \u001b[0;34m**\u001b[0m\u001b[0moptions\u001b[0m\u001b[0;34m)\u001b[0m\u001b[0;34m\u001b[0m\u001b[0;34m\u001b[0m\u001b[0m\n\u001b[0m\u001b[1;32m     71\u001b[0m \u001b[0;34m\u001b[0m\u001b[0m\n\u001b[1;32m     72\u001b[0m \u001b[0mrule_90\u001b[0m \u001b[0;34m=\u001b[0m \u001b[0mget_lookup_table\u001b[0m\u001b[0;34m(\u001b[0m\u001b[0;36m90\u001b[0m\u001b[0;34m)\u001b[0m\u001b[0;34m\u001b[0m\u001b[0;34m\u001b[0m\u001b[0m\n",
            "\u001b[0;32m/usr/local/lib/python3.10/dist-packages/matplotlib/__init__.py\u001b[0m in \u001b[0;36minner\u001b[0;34m(ax, data, *args, **kwargs)\u001b[0m\n\u001b[1;32m   1440\u001b[0m     \u001b[0;32mdef\u001b[0m \u001b[0minner\u001b[0m\u001b[0;34m(\u001b[0m\u001b[0max\u001b[0m\u001b[0;34m,\u001b[0m \u001b[0;34m*\u001b[0m\u001b[0margs\u001b[0m\u001b[0;34m,\u001b[0m \u001b[0mdata\u001b[0m\u001b[0;34m=\u001b[0m\u001b[0;32mNone\u001b[0m\u001b[0;34m,\u001b[0m \u001b[0;34m**\u001b[0m\u001b[0mkwargs\u001b[0m\u001b[0;34m)\u001b[0m\u001b[0;34m:\u001b[0m\u001b[0;34m\u001b[0m\u001b[0;34m\u001b[0m\u001b[0m\n\u001b[1;32m   1441\u001b[0m         \u001b[0;32mif\u001b[0m \u001b[0mdata\u001b[0m \u001b[0;32mis\u001b[0m \u001b[0;32mNone\u001b[0m\u001b[0;34m:\u001b[0m\u001b[0;34m\u001b[0m\u001b[0;34m\u001b[0m\u001b[0m\n\u001b[0;32m-> 1442\u001b[0;31m             \u001b[0;32mreturn\u001b[0m \u001b[0mfunc\u001b[0m\u001b[0;34m(\u001b[0m\u001b[0max\u001b[0m\u001b[0;34m,\u001b[0m \u001b[0;34m*\u001b[0m\u001b[0mmap\u001b[0m\u001b[0;34m(\u001b[0m\u001b[0msanitize_sequence\u001b[0m\u001b[0;34m,\u001b[0m \u001b[0margs\u001b[0m\u001b[0;34m)\u001b[0m\u001b[0;34m,\u001b[0m \u001b[0;34m**\u001b[0m\u001b[0mkwargs\u001b[0m\u001b[0;34m)\u001b[0m\u001b[0;34m\u001b[0m\u001b[0;34m\u001b[0m\u001b[0m\n\u001b[0m\u001b[1;32m   1443\u001b[0m \u001b[0;34m\u001b[0m\u001b[0m\n\u001b[1;32m   1444\u001b[0m         \u001b[0mbound\u001b[0m \u001b[0;34m=\u001b[0m \u001b[0mnew_sig\u001b[0m\u001b[0;34m.\u001b[0m\u001b[0mbind\u001b[0m\u001b[0;34m(\u001b[0m\u001b[0max\u001b[0m\u001b[0;34m,\u001b[0m \u001b[0;34m*\u001b[0m\u001b[0margs\u001b[0m\u001b[0;34m,\u001b[0m \u001b[0;34m**\u001b[0m\u001b[0mkwargs\u001b[0m\u001b[0;34m)\u001b[0m\u001b[0;34m\u001b[0m\u001b[0;34m\u001b[0m\u001b[0m\n",
            "\u001b[0;32m/usr/local/lib/python3.10/dist-packages/matplotlib/axes/_axes.py\u001b[0m in \u001b[0;36mimshow\u001b[0;34m(self, X, cmap, norm, aspect, interpolation, alpha, vmin, vmax, origin, extent, interpolation_stage, filternorm, filterrad, resample, url, **kwargs)\u001b[0m\n\u001b[1;32m   5663\u001b[0m                               **kwargs)\n\u001b[1;32m   5664\u001b[0m \u001b[0;34m\u001b[0m\u001b[0m\n\u001b[0;32m-> 5665\u001b[0;31m         \u001b[0mim\u001b[0m\u001b[0;34m.\u001b[0m\u001b[0mset_data\u001b[0m\u001b[0;34m(\u001b[0m\u001b[0mX\u001b[0m\u001b[0;34m)\u001b[0m\u001b[0;34m\u001b[0m\u001b[0;34m\u001b[0m\u001b[0m\n\u001b[0m\u001b[1;32m   5666\u001b[0m         \u001b[0mim\u001b[0m\u001b[0;34m.\u001b[0m\u001b[0mset_alpha\u001b[0m\u001b[0;34m(\u001b[0m\u001b[0malpha\u001b[0m\u001b[0;34m)\u001b[0m\u001b[0;34m\u001b[0m\u001b[0;34m\u001b[0m\u001b[0m\n\u001b[1;32m   5667\u001b[0m         \u001b[0;32mif\u001b[0m \u001b[0mim\u001b[0m\u001b[0;34m.\u001b[0m\u001b[0mget_clip_path\u001b[0m\u001b[0;34m(\u001b[0m\u001b[0;34m)\u001b[0m \u001b[0;32mis\u001b[0m \u001b[0;32mNone\u001b[0m\u001b[0;34m:\u001b[0m\u001b[0;34m\u001b[0m\u001b[0;34m\u001b[0m\u001b[0m\n",
            "\u001b[0;32m/usr/local/lib/python3.10/dist-packages/matplotlib/image.py\u001b[0m in \u001b[0;36mset_data\u001b[0;34m(self, A)\u001b[0m\n\u001b[1;32m    708\u001b[0m         if not (self._A.ndim == 2\n\u001b[1;32m    709\u001b[0m                 or self._A.ndim == 3 and self._A.shape[-1] in [3, 4]):\n\u001b[0;32m--> 710\u001b[0;31m             raise TypeError(\"Invalid shape {} for image data\"\n\u001b[0m\u001b[1;32m    711\u001b[0m                             .format(self._A.shape))\n\u001b[1;32m    712\u001b[0m \u001b[0;34m\u001b[0m\u001b[0m\n",
            "\u001b[0;31mTypeError\u001b[0m: Invalid shape (101, 1, 101) for image data"
          ]
        },
        {
          "output_type": "display_data",
          "data": {
            "text/plain": [
              "<Figure size 1200x800 with 4 Axes>"
            ],
            "image/png": "[encoded data removed]"
          },
          "metadata": {}
        }
      ],
      "source": [
        "def run_ca_experiment(rule, start_state, n_steps, title):   #an unxpected runtime error, used Chat gpt but still could'nt figure it out\n",
        "    \"\"\"\n",
        "    Construct, simulate, and draw a cellular automaton experiment.\n",
        "\n",
        "    :param rule: The rule number for the cellular automaton.\n",
        "    :param start_state: The initial state of the cellular automaton.\n",
        "    :param n_steps: The number of steps to simulate the CA.\n",
        "    :param title: The title for the plot.\n",
        "    \"\"\"\n",
        "\n",
        "    # Create a Cell1D instance with the given rule and start state\n",
        "    ca = Cell1D(rule, start_state)\n",
        "\n",
        "    # Simulate the CA for the specified number of steps\n",
        "    ca_timesteps = ca.simulate(n_steps)\n",
        "\n",
        "    # Plot the CA\n",
        "    plot_ca(ca_timesteps, title=title)\n",
        "\n",
        "\n",
        "# Rule numbers for each class of CA\n",
        "class_rules = {\n",
        "    'a': 0,\n",
        "    'b': 30,\n",
        "    'c': 110,\n",
        "    'd': 90\n",
        "}\n",
        "\n",
        "# Start states for each simulation\n",
        "start_states = {\n",
        "    'a': [0] * 101,  # All zeros\n",
        "    'b': single_centre_array(101),  # Centre cell is 1\n",
        "    'c': random_array(0.5, 101),  # Random start state\n",
        "    'd': random_array(0.5, 101)  # Another random start state\n",
        "}\n",
        "\n",
        "# Titles for each plot\n",
        "titles = {\n",
        "    'a': 'Class A (Rule 0)',\n",
        "    'b': 'Class B (Rule 30)',\n",
        "    'c': 'Class C (Rule 110)',\n",
        "    'd': 'Class D (Rule 90)'\n",
        "}\n",
        "\n",
        "# Create a 2x2 grid of plots\n",
        "fig, axes = plt.subplots(2, 2, figsize=(12, 8))\n",
        "for ax, class_label in zip(axes.flat, class_rules.keys()):\n",
        "    run_ca_experiment(class_rules[class_label], start_states[class_label], 100, titles[class_label])\n",
        "    ax.set_title(titles[class_label])\n",
        "\n",
        "plt.tight_layout()\n",
        "plt.show()\n"
      ],
      "metadata": {
        "pycharm": {
          "name": "#%%\n"
        },
        "ExecuteTime": {
          "end_time": "2024-01-02T07:20:38.932659Z",
          "start_time": "2024-01-02T07:20:38.909421Z"
        },
        "id": "LIJhDhpCZZ_y",
        "outputId": "26af2467-bb99-43e1-a73e-f927d4db119b",
        "colab": {
          "base_uri": "https://localhost:8080/",
          "height": 1000
        }
      }
    },
    {
      "cell_type": "markdown",
      "source": [
        "#### Sample code for creating a 2x2 grid of plots"
      ],
      "metadata": {
        "collapsed": false,
        "pycharm": {
          "name": "#%% md\n"
        },
        "id": "NF7ftoPsZZ_y"
      }
    },
    {
      "cell_type": "code",
      "execution_count": null,
      "outputs": [],
      "source": [
        "def axes_layout(nrows=1, ncols=1, fig_title=None, **kwargs):\n",
        "    \"\"\" layout nrows x ncols axes with sensible defaults.  kwargs passed directly to `plt.subplots()`\"\"\"\n",
        "    kwargs = {**dict(layout='tight'), **kwargs}\n",
        "    fig, axes = plt.subplots(nrows=nrows, ncols=ncols, **kwargs)\n",
        "    if fig_title:\n",
        "        fig.suptitle(fig_title)\n",
        "    return axes\n",
        "\n",
        "# Example: plot 4 plots in a 2x2 grid - plots are labelled so it's clear which is which.\n",
        "axes = axes_layout(2, 2, fig_title='Sample Plot of 2 x 2 grid of images')\n",
        "for ax, title in zip(axes.flat, ('top-left', 'top-right', 'bottom-left', 'bottom-right' )):\n",
        "    plot_ca(ca_timesteps, axes=ax, title=f'This is plot {title}')"
      ],
      "metadata": {
        "pycharm": {
          "name": "#%%\n"
        },
        "ExecuteTime": {
          "end_time": "2024-01-02T07:20:39.309417Z",
          "start_time": "2024-01-02T07:20:38.915516Z"
        },
        "id": "7gFcnEblZZ_z"
      }
    },
    {
      "cell_type": "markdown",
      "source": [
        "## Exercise 4:  Thought Experiments\n",
        "Think about some of the questions that arise from this experiment.  Provide some concise answer that capture you thinking...\n",
        "1. What is it about these experiments that requires computation?\n",
        "Is there some other means by which we could conduct experiments like this?\n",
        "\n",
        "2. What conclusions can you draw about the conditions under which complex behaviours can arise?\n",
        "Do you think these conclusions are mostly intuitive or counter-intuitive?\n",
        "\n",
        "3. What lessons might we take about studying complex phenomena in the real world from our study of elementary cellular automata?"
      ],
      "metadata": {
        "collapsed": false,
        "pycharm": {
          "name": "#%% md\n"
        },
        "id": "LFwdXoudZZ_z"
      }
    },
    {
      "cell_type": "markdown",
      "source": [
        "### Answers\n",
        "(concise, point-form -- there are no wrong answers, I'd just like to hear what you think)\n",
        "\n",
        "Used chatgpt to read about these questions then answered\n",
        "\n",
        "\n",
        "1) In my opinion the complexicity and often the scale of CA requires use of Computation. Alternatively, physical models might be feasible for simple CA but would be impractical for large and dynamic systems.\n",
        "\n",
        "2)Complex behaviours in CA arise mostly due to simple rules operationg on local interactions. These conclusions are mostly counter-intutive\n",
        "\n",
        "3) Studying CA allows us to understand the utility of computational modeling in studying and understanding complex phenomena, allowing for experimentation and observation of system dynamics at various scales and levels of complexity."
      ],
      "metadata": {
        "collapsed": false,
        "pycharm": {
          "name": "#%% md\n"
        },
        "id": "Ql6lvPaGZZ_0"
      }
    }
  ],
  "metadata": {
    "kernelspec": {
      "display_name": "Python 3",
      "language": "python",
      "name": "python3"
    },
    "language_info": {
      "codemirror_mode": {
        "name": "ipython",
        "version": 2
      },
      "file_extension": ".py",
      "mimetype": "text/x-python",
      "name": "python",
      "nbconvert_exporter": "python",
      "pygments_lexer": "ipython2",
      "version": "2.7.6"
    },
    "colab": {
      "provenance": []
    }
  },
  "nbformat": 4,
  "nbformat_minor": 0
}