{
  "cells": [
    {
      "cell_type": "markdown",
      "metadata": {
        "collapsed": true,
        "pycharm": {
          "name": "#%% md\n"
        },
        "id": "fZJZ6uVtvDji"
      },
      "source": [
        "COMP 215 - LAB 6 (Game of Life)\n",
        "-----------------------------------------------\n",
        "#### Name:\n",
        "#### Date:\n",
        "\n",
        "This lab exercise is an introduction to [Conway's Game of Life](https://en.wikipedia.org/wiki/Conway%27s_Game_of_Life) discovered and studied by [John Conway](https://en.wikipedia.org/wiki/John_Horton_Conway).\n",
        "\n",
        "**New Python concepts**:\n",
        "   * 2D numpy [array](https://numpy.org/doc/stable/reference/generated/numpy.array.html)\n",
        "   * basic [array operations](https://www.pluralsight.com/guides/overview-basic-numpy-operations)\n",
        "\n",
        "**New Computation concepts**:\n",
        "   * [2D sliding dot product](https://docs.scipy.org/doc/scipy/reference/generated/scipy.signal.correlate2d.html)\n",
        "   * [Animation](https://matplotlib.org/stable/api/animation_api.html)\n",
        "\n",
        "**Credits**:\n",
        "    Code examples based on [Think Complexity, 2nd edition](https://thinkcomplex.com).\n",
        "    Copyright 2016 Allen Downey, [MIT License](http://opensource.org/licenses/MIT)\n",
        "\n",
        "As usual, the first code cell simply imports all the modules we'll be using..."
      ]
    },
    {
      "cell_type": "code",
      "execution_count": 20,
      "outputs": [],
      "source": [
        "import time\n",
        "import matplotlib\n",
        "import matplotlib.pyplot as plt\n",
        "from matplotlib import animation\n",
        "import numpy as np\n",
        "from scipy.signal import correlate2d\n",
        "import random\n",
        "\n",
        "%matplotlib inline\n",
        "# Configure matplotlib's animation library to work in the browser.\n",
        "matplotlib.rc('animation', html='jshtml')"
      ],
      "metadata": {
        "pycharm": {
          "name": "#%%\n"
        },
        "ExecuteTime": {
          "end_time": "2024-01-06T00:59:30.713969Z",
          "start_time": "2024-01-06T00:59:29.426998Z"
        },
        "id": "o4NmXoDJvDjk"
      }
    },
    {
      "cell_type": "markdown",
      "source": [
        "A reusable function for plotting 2D numpy.array as an image..."
      ],
      "metadata": {
        "collapsed": false,
        "pycharm": {
          "name": "#%% md\n"
        },
        "id": "V5MXupNlvDjl"
      }
    },
    {
      "cell_type": "code",
      "execution_count": 21,
      "outputs": [],
      "source": [
        "def plot_2d_array(array, axes=None, title='', cmap='Blues', **options):\n",
        "    \"\"\"\n",
        "    Plot the 2D array as an image on the given axes  1's will be dark blue, 0's will be light blue.\n",
        "\n",
        "    :param axes: the axes to plot on, or None to use the `plt.gca()` (current axes)\n",
        "    :param options: keyword arguments passed directly to `plt.imshow()`\n",
        "           see https://matplotlib.org/stable/api/_as_gen/matplotlib.axes.Axes.imshow.html\n",
        "    \"\"\"\n",
        "    axes = axes or plt.gca()  # If not axes are provided, draw on current axes\n",
        "    axes.set_title(title)\n",
        "    # Turn off axes labels and tick marks\n",
        "    axes.tick_params(axis='both', which='both', bottom=False, top=False, left=False, right=False ,\n",
        "                     labelbottom=False, labeltop=False, labelleft=False, labelright=False,)\n",
        "    # Defaults for displaying a \"matrix\" with hard-pixel boundaries and (0,0) at top-left\n",
        "    options = {**dict(interpolation='nearest', origin='upper'), **options}\n",
        "    axes.imshow(array, cmap=cmap, **options)"
      ],
      "metadata": {
        "pycharm": {
          "name": "#%%\n"
        },
        "ExecuteTime": {
          "end_time": "2024-01-06T00:59:30.719129Z",
          "start_time": "2024-01-06T00:59:30.716251Z"
        },
        "id": "U6nyilaivDjl"
      }
    },
    {
      "cell_type": "markdown",
      "source": [
        "## Life Fundamentals\n",
        "Both the textbook and our week6 notebooks develop some fundamental operations for simulating the Game of Life.\n",
        "Some of the code from `week6.ipynb` is reproduced here without deriving all the ideas - review `week6.ipynb` notebook for the full story.\n",
        "The sliding dot product algorithm in `step` is implemented with [scipy.signal.correlate2d](https://docs.scipy.org/doc/scipy/reference/generated/scipy.signal.correlate2d.html).  It's behaviour is identical to the derivation in `week6.ipynb`.\n",
        "\n",
        "#### Notes\n",
        "* we use `correlate2d(state, kernel, mode='same', boundary='wrap')` to pad state matrix with 1 value around perimeter from the opposite side of the matrix.\n",
        "* since the rule is a 1D `np.array`, we use \"vector indexing\" here to set the 'live' state transitions:  `next_state[[3, 12, 13]] = 1`"
      ],
      "metadata": {
        "collapsed": false,
        "pycharm": {
          "name": "#%% md\n"
        },
        "id": "0bE_GUWkvDjm"
      }
    },
    {
      "cell_type": "code",
      "execution_count": 22,
      "outputs": [],
      "source": [
        "class Life2D:\n",
        "    \"\"\" An basic 2D Cellular Automata that implementes Conway's Game of Life \"\"\"\n",
        "    kernel = np.array([[1, 1, 1],\n",
        "                       [1, 10, 1],\n",
        "                       [1, 1, 1]])\n",
        "\n",
        "    next_state = np.zeros(19, dtype=np.uint8)\n",
        "    next_state[[3, 12, 13]] = 1\n",
        "\n",
        "    def __init__(self, n_rows, n_cols=None):\n",
        "        \"\"\" Construct a n_rows x n_cols 2D CA \"\"\"\n",
        "        n_cols = n_cols or n_rows  # i.e., n_cols if n_cols is not None and n_cols != 0 else n_rows\n",
        "        self.state = np.zeros(shape=(n_rows, n_cols), dtype=np.uint8)\n",
        "\n",
        "    def step(self):\n",
        "        \"\"\"Executes one time step. \"\"\"\n",
        "        transitions = correlate2d(self.state, self.kernel, mode='same', boundary='wrap')\n",
        "        self.state = self.next_state[transitions]\n",
        "\n",
        "    def draw(self, axes=None, step=''):\n",
        "        axes = axes or plt.gca()   # use pyplot's current axes if none are provided.\n",
        "        plot_2d_array(self.state, axes, title=f\"Conway's Game of Life {step}\")"
      ],
      "metadata": {
        "pycharm": {
          "name": "#%%\n"
        },
        "ExecuteTime": {
          "end_time": "2024-01-06T00:59:30.722229Z",
          "start_time": "2024-01-06T00:59:30.719978Z"
        },
        "id": "d_g7D8q4vDjm"
      }
    },
    {
      "cell_type": "markdown",
      "source": [
        "### Visualizing a 2D simulation model\n",
        "For 1D CAs, we could use a 2D image to visualize the CA progression over time.\n",
        "For 2D CAs, we could try using time as a 3rd axis to generate a 3D visualziation, but without VR, its hard to explore a 3D visualization.\n",
        "Instead, we'll use a simple 2D [\"stop motion\" animation](https://en.wikipedia.org/wiki/Animation).\n",
        "Here is a generic class that animates any 2D model that provides step() and draw() methods, and uses matplotlib to render its state.\n",
        "\n",
        "See [Matplotlib animation in Jupyter](https://www.allendowney.com/blog/2019/07/25/matplotlib-animation-in-jupyter/) by our textbook author for a discussion of the pros and cons of various animation techniques in jupyter notebooks."
      ],
      "metadata": {
        "collapsed": false,
        "pycharm": {
          "name": "#%% md\n"
        },
        "id": "GSgM36MHvDjn"
      }
    },
    {
      "cell_type": "code",
      "execution_count": 23,
      "outputs": [],
      "source": [
        "class Animation2D:\n",
        "    \"\"\"\n",
        "      Animates any 2D model with a step() method and a draw() method, using matplotlib\n",
        "      model.step() should take no parameters - just step the model forward one step.\n",
        "      model.draw() should take 2 parameters, the matpltolib axes to draw on and an integer step number\n",
        "    \"\"\"\n",
        "\n",
        "    def __init__(self, model, frames=50, figsize=(8, 8)):\n",
        "        \"\"\"\n",
        "        :param model: the simulation object to animate, with step() and draw(axes, step) methods\n",
        "        :param frames: number of animation frames to generate\n",
        "        \"\"\"\n",
        "        self.model = model\n",
        "        self.frames = frames\n",
        "        self.fig, self.ax = plt.subplots(figsize=figsize)\n",
        "\n",
        "    def animation_step(self, step):\n",
        "        \"\"\" Step the model forward and draw the plot \"\"\"\n",
        "        if step > 0:\n",
        "            self.model.step()\n",
        "        self.model.draw(self.ax, step=step)\n",
        "\n",
        "    def show(self):\n",
        "        \"\"\" return the matplotlib animation object, ready for display \"\"\"\n",
        "        anim = animation.FuncAnimation(self.fig, self.animation_step, frames=self.frames)\n",
        "        plt.close()  # this ensures the last frame is not shown as a separate plot\n",
        "        return anim\n",
        "\n",
        "    def animate(self, interval=None):\n",
        "        \"\"\" Animate the model simulation directly in the notebook display block \"\"\"\n",
        "        from IPython.display import clear_output\n",
        "        try:\n",
        "            for i in range(self.frames):\n",
        "                clear_output(wait=True)  # clear the IPython display\n",
        "                self.ax.clear()          # clear old image from the axes (fixes a performance issue)\n",
        "                plt.figure(self.fig)     # add the figure back to pyplot ** sigh **\n",
        "                self.animation_step(i)\n",
        "                plt.show()               # show the current animation frame (pyplot then closes and throws away figure ** sigh **)\n",
        "                if interval:\n",
        "                    time.sleep(interval)\n",
        "        except KeyboardInterrupt:\n",
        "            pass"
      ],
      "metadata": {
        "pycharm": {
          "name": "#%%\n"
        },
        "ExecuteTime": {
          "end_time": "2024-01-06T00:59:30.727443Z",
          "start_time": "2024-01-06T00:59:30.724530Z"
        },
        "id": "o6hSpsZtvDjn"
      }
    },
    {
      "cell_type": "markdown",
      "source": [
        "### Sample usage\n",
        "Animate a single glider..."
      ],
      "metadata": {
        "collapsed": false,
        "pycharm": {
          "name": "#%% md\n"
        },
        "id": "krW2TPuAvDjo"
      }
    },
    {
      "cell_type": "code",
      "execution_count": 24,
      "outputs": [
        {
          "output_type": "display_data",
          "data": {
            "text/plain": [
              "<Figure size 800x800 with 1 Axes>"
            ],
            "image/png": "[encoded data removed]"
          },
          "metadata": {}
        }
      ],
      "source": [
        "size = 10\n",
        "life = Life2D(size)\n",
        "glider = np.array([[0, 1, 0], [0, 0, 1], [1, 1, 1]], dtype=np.uint8)\n",
        "life.state[1:4, 2:5] = glider             # bad idea to alter an objects state directly!  We'll improve it in Ex. 3\n",
        "gol = Animation2D(life, frames=20)\n",
        "gol.animate()"
      ],
      "metadata": {
        "pycharm": {
          "name": "#%%\n"
        },
        "id": "GHtEBEX5vDjo",
        "outputId": "83f062a8-4aeb-4186-9228-4166c6a32e11",
        "colab": {
          "base_uri": "https://localhost:8080/",
          "height": 675
        }
      }
    },
    {
      "cell_type": "markdown",
      "source": [
        "## Exercise 1:  Enumerate all Elementary 2D CA's\n",
        "Write a line or 2 of code to compute and print the answer for each question:\n",
        "* how many unique states are there for a 3x3 (9 cell) neighbourhood?\n",
        "* how many unique “rules” are there? (where a rule provides a mapping for each possible neighbourhood state to the output for the centre cell)\n",
        "* how does this number compare, for example, to the [number of atoms in the observable universe?](https://en.wikipedia.org/wiki/Observable_universe#Matter_content%E2%80%94number_of_atoms)"
      ],
      "metadata": {
        "collapsed": false,
        "id": "CFcLiTSYvDjo"
      }
    },
    {
      "cell_type": "code",
      "execution_count": 25,
      "outputs": [
        {
          "output_type": "stream",
          "name": "stdout",
          "text": [
            "Number of unique states for a 3x3 neighborhood: 512\n",
            "Number of unique rules: 13407807929942597099574024998205846127479365820592393377723561443721764030073546976801874298166903427690031858186486050853753882811946569946433649006084096\n",
            "Comparison with the number of atoms in the observable universe:\n",
            "Number of unique rules / Number of atoms in the observable universe: 1.3407807929942597e+74\n"
          ]
        }
      ],
      "source": [
        "# Ex. 1 your code here...\n",
        "num_states = 2 ** 9\n",
        "num_rules = 2 ** 512\n",
        "\n",
        "print(\"Number of unique states for a 3x3 neighborhood:\", num_states)\n",
        "print(\"Number of unique rules:\", num_rules)\n",
        "\n",
        "# Comparison with the number of atoms in the observable universe\n",
        "num_atoms_universe = 10 ** 80\n",
        "\n",
        "print(\"Comparison with the number of atoms in the observable universe:\")\n",
        "print(\"Number of unique rules / Number of atoms in the observable universe:\", num_rules / num_atoms_universe)\n"
      ],
      "metadata": {
        "pycharm": {
          "name": "#%%\n"
        },
        "ExecuteTime": {
          "end_time": "2024-01-06T00:59:32.380370Z",
          "start_time": "2024-01-06T00:59:32.378662Z"
        },
        "id": "j8dm1KwmvDjp",
        "outputId": "9d8a1db5-27fb-48d0-a988-374370f0951c",
        "colab": {
          "base_uri": "https://localhost:8080/"
        }
      }
    },
    {
      "cell_type": "markdown",
      "source": [
        "Using what you learned above, concisely answer each question below (point form)1\n",
        "1. would it be a reasonable goal to conduct an experiment like Wolfram’s for 2D CA’s?\n",
        "2. propose a numbering scheme for these rules, analogous to Wolfram’s rule numbers\n",
        "3. how might we go about determining which rule number corresponds to Conway’s GoL?\n",
        "   (I’m not asking for the number, but rather for a method you could use to find it.)"
      ],
      "metadata": {
        "collapsed": false,
        "pycharm": {
          "name": "#%% md\n"
        },
        "id": "n76YWkMHvDjp"
      }
    },
    {
      "cell_type": "markdown",
      "source": [
        "#### Ex 1. Your Answers\n",
        "\n",
        "1. . No it won't be a reasonable goal due the immense scale.\n",
        "2. .\n",
        "3. . We can use the same method described above."
      ],
      "metadata": {
        "collapsed": false,
        "id": "8qlTNidNvDjq"
      }
    },
    {
      "cell_type": "markdown",
      "source": [
        "## Exercise 2: random_life\n",
        "Extend the Life2D class defined above to allow the game to be initialized with a random start state.\n",
        "The liklihood of any given cell being initialized to \"alive\" is given by $p$.\n",
        "*Hint*: we did this exact exercise for a 1D array in previous lab"
      ],
      "metadata": {
        "collapsed": false,
        "pycharm": {
          "name": "#%% md\n"
        },
        "id": "CGHodqLnvDjq"
      }
    },
    {
      "cell_type": "code",
      "execution_count": 26,
      "outputs": [
        {
          "output_type": "execute_result",
          "data": {
            "text/plain": [
              "array([[1, 1, 0, 1, 0],\n",
              "       [1, 1, 0, 1, 0],\n",
              "       [1, 0, 1, 0, 1],\n",
              "       [0, 1, 0, 1, 1],\n",
              "       [1, 0, 1, 1, 1]], dtype=uint8)"
            ]
          },
          "metadata": {},
          "execution_count": 26
        }
      ],
      "source": [
        "# Ex. 2 experimental setup\n",
        "\n",
        "class BetterLife2D(Life2D):\n",
        "    \"\"\" Improvements on the basic Life2D model \"\"\"\n",
        "\n",
        "    def randomize_state(self, p):\n",
        "        \"\"\" Randomize the state of this GoL, where probability of a \"live\" cell is p \"\"\"\n",
        "        # Ex. 2 your code here...\n",
        "        for i in range(len(self.state)):\n",
        "            for j in range(len(self.state)):\n",
        "                if random.random()<p:\n",
        "                   self.state[i][j] = 1\n",
        "        return self.state\n",
        "\n",
        "def random_life(n_rows, n_cols=None, p=0.5):\n",
        "    \"\"\" Return a Life2D object of given dimensions with initial randomized state where \"live\" cells have probability p \"\"\"\n",
        "    # Ex. 2 your code here...\n",
        "    bt_array = BetterLife2D(n_rows, n_cols)\n",
        "    return bt_array.randomize_state(p)\n",
        "\n",
        "random_life(5,5,0.5)"
      ],
      "metadata": {
        "pycharm": {
          "name": "#%%\n"
        },
        "ExecuteTime": {
          "end_time": "2024-01-06T00:59:32.383669Z",
          "start_time": "2024-01-06T00:59:32.381110Z"
        },
        "id": "r0rCBbmQvDjq",
        "outputId": "aa9d0907-6d25-44f6-9a2b-5254cb63f0bf",
        "colab": {
          "base_uri": "https://localhost:8080/"
        }
      }
    },
    {
      "cell_type": "markdown",
      "source": [
        "### Experiment\n",
        "Run a small experiment to see if you can identify any relationship between $p$, the probability of a live cell in the initial grid, and the time it takes for the GoL pattern to stabilize."
      ],
      "metadata": {
        "collapsed": false,
        "pycharm": {
          "name": "#%% md\n"
        },
        "id": "ZUwIw2advDjr"
      }
    },
    {
      "cell_type": "code",
      "execution_count": 27,
      "outputs": [
        {
          "output_type": "execute_result",
          "data": {
            "text/plain": [
              "array([[0, 1, 1, 1, 1],\n",
              "       [0, 1, 1, 0, 1],\n",
              "       [1, 1, 1, 0, 1],\n",
              "       [1, 1, 1, 0, 1],\n",
              "       [1, 1, 0, 0, 1]], dtype=uint8)"
            ]
          },
          "metadata": {},
          "execution_count": 27
        }
      ],
      "source": [
        "# Ex. 2 write code for your experiment here...\n",
        "class BetterLife2D(Life2D):\n",
        "    \"\"\" Improvements on the basic Life2D model \"\"\"\n",
        "\n",
        "    def randomize_state(self, p):\n",
        "        \"\"\" Randomize the state of this GoL, where probability of a \"live\" cell is p \"\"\"\n",
        "        # Ex. 2 your code here...\n",
        "        for i in range(len(self.state)):\n",
        "            for j in range(len(self.state)):\n",
        "                if random.random()<p:\n",
        "                   self.state[i][j] = 1\n",
        "        return self.state\n",
        "\n",
        "def random_life(n_rows, n_cols=None, p=0.5):\n",
        "    \"\"\" Return a Life2D object of given dimensions with initial randomized state where \"live\" cells have probability p \"\"\"\n",
        "    # Ex. 2 your code here...\n",
        "    bt_array = BetterLife2D(n_rows, n_cols)\n",
        "    return bt_array.randomize_state(p)\n",
        "\n",
        "random_life(5,5,0.5)"
      ],
      "metadata": {
        "pycharm": {
          "name": "#%%\n"
        },
        "ExecuteTime": {
          "end_time": "2024-01-06T00:59:32.386367Z",
          "start_time": "2024-01-06T00:59:32.383563Z"
        },
        "id": "LewodHNTvDjr",
        "outputId": "74d5b17a-9e0b-45c0-8734-00e051640451",
        "colab": {
          "base_uri": "https://localhost:8080/"
        }
      }
    },
    {
      "cell_type": "markdown",
      "source": [
        "## Exercise 3: Load Patterns\n",
        "People have discovered many interesting [\"patterns\"](https://conwaylife.com/wiki/Category:Patterns) that exhibit various types of behaviours.\n",
        "A \"pattern\" is just a small 2D array.\n",
        " 1. Develop a function that returns a 2D array containing the patterns defined by a single string; and\n",
        " 2. Add a `load_pattern(x, y, pattern)` method to your `BetterLife2D` class above to insert patterns into the Life state array\n",
        "    *Tip*: you can [assign an entire 2D slice of a numpy array](https://www.nickmccullum.com/advanced-python/numpy-indexing-assignment/) in a single assignment statement!   See example in the Sample Usage block above. Try it!"
      ],
      "metadata": {
        "collapsed": false,
        "pycharm": {
          "name": "#%% md\n"
        },
        "id": "phSwGR96vDjr"
      }
    },
    {
      "cell_type": "code",
      "execution_count": 28,
      "outputs": [
        {
          "output_type": "display_data",
          "data": {
            "text/plain": [
              "<Figure size 640x480 with 1 Axes>"
            ],
            "image/png": "[encoded data removed]"
          },
          "metadata": {}
        }
      ],
      "source": [
        "# Here's an example of the glider pattern from above defined in a single string...\n",
        "glider_pattern = \\\n",
        "    \"\"\"\n",
        "    010\n",
        "    001\n",
        "    111\n",
        "    \"\"\"\n",
        "\n",
        "# Ex. 3 your code here...   #used online resources for this\n",
        "# Defines the parse_pattern function\n",
        "def parse_pattern(pattern_str):\n",
        "    \"\"\"\n",
        "    Parse the pattern string and return a 2D array representing the pattern.\n",
        "\n",
        "    :param pattern_str: A string representing the pattern, where '0' represents a dead cell and '1' represents a live cell.\n",
        "    :return: A 2D numpy array representing the pattern.\n",
        "    \"\"\"\n",
        "    pattern_rows = pattern_str.strip().split('\\n')\n",
        "    pattern_array = np.array([[int(cell) for cell in row.strip()] for row in pattern_rows], dtype=np.uint8)\n",
        "    return pattern_array\n",
        "\n",
        "# Updates the BetterLife2D class with the load_pattern method\n",
        "class BetterLife2D(Life2D):\n",
        "    def load_pattern(self, x, y, pattern):\n",
        "        \"\"\"\n",
        "        Load a pattern into the Life state array at the specified coordinates.\n",
        "\n",
        "        :param x: The x-coordinate of the top-left corner of the pattern.\n",
        "        :param y: The y-coordinate of the top-left corner of the pattern.\n",
        "        :param pattern: A 2D numpy array representing the pattern.\n",
        "        \"\"\"\n",
        "        height, width = pattern.shape\n",
        "        self.state[y:y+height, x:x+width] = pattern\n",
        "\n",
        "# Here's an example of the glider pattern from above defined in a single string...\n",
        "glider_pattern = \"\"\"\n",
        "010\n",
        "001\n",
        "111\n",
        "\"\"\"\n",
        "\n",
        "# Parses the pattern string\n",
        "glider = parse_pattern(glider_pattern)\n",
        "\n",
        "# Creates a BetterLife2D instance\n",
        "life = BetterLife2D(10)\n",
        "\n",
        "# Loads the pattern into the Life state array at coordinates (1, 1)\n",
        "life.load_pattern(1, 1, glider)\n",
        "\n",
        "# Visualizes the Life state\n",
        "life.draw()\n",
        "plt.show()\n"
      ],
      "metadata": {
        "pycharm": {
          "name": "#%%\n"
        },
        "ExecuteTime": {
          "end_time": "2024-01-06T00:59:32.388974Z",
          "start_time": "2024-01-06T00:59:32.385536Z"
        },
        "id": "bBKcnRMqvDjr",
        "outputId": "cad77217-6687-4b03-8eaf-55beadaec2ac",
        "colab": {
          "base_uri": "https://localhost:8080/",
          "height": 428
        }
      }
    },
    {
      "cell_type": "markdown",
      "source": [
        "### Define some patterns\n",
        "User your nifty new function to define a few common, interesting patterns (e.g., from the book or other sources)"
      ],
      "metadata": {
        "collapsed": false,
        "pycharm": {
          "name": "#%% md\n"
        },
        "id": "rDuJwadIvDjs"
      }
    },
    {
      "cell_type": "code",
      "execution_count": 29,
      "outputs": [
        {
          "output_type": "display_data",
          "data": {
            "text/plain": [
              "<Figure size 640x480 with 1 Axes>"
            ],
            "image/png": "[encoded data removed]"
          },
          "metadata": {}
        }
      ],
      "source": [
        "# Ex. 3 define your patterns here...  #found patterns using online resources\n",
        "# Define the blinker pattern\n",
        "blinker_pattern = \"\"\"\n",
        "010\n",
        "010\n",
        "010\n",
        "\"\"\"\n",
        "\n",
        "# Define the toad pattern\n",
        "toad_pattern = \"\"\"\n",
        "0000\n",
        "0111\n",
        "1110\n",
        "0000\n",
        "\"\"\"\n",
        "# Parses the blinker pattern\n",
        "blinker = parse_pattern(blinker_pattern)\n",
        "\n",
        "# Parses the toad pattern\n",
        "toad = parse_pattern(toad_pattern)\n",
        "\n",
        "# Creates a BetterLife2D instance\n",
        "life = BetterLife2D(10)\n",
        "\n",
        "# Loads the blinker pattern into the Life state array at coordinates (1, 1)\n",
        "life.load_pattern(1, 1, blinker)\n",
        "\n",
        "# Loads the toad pattern into the Life state array at coordinates (5, 5)\n",
        "life.load_pattern(5, 5, toad)\n",
        "\n",
        "# Visualizes the Life state\n",
        "life.draw()\n",
        "plt.show()\n"
      ],
      "metadata": {
        "pycharm": {
          "name": "#%%\n"
        },
        "ExecuteTime": {
          "end_time": "2024-01-06T00:59:32.389471Z",
          "start_time": "2024-01-06T00:59:32.387944Z"
        },
        "id": "vfQY5MlAvDjs",
        "outputId": "3cd160a4-06b2-44b6-d341-447d0339241e",
        "colab": {
          "base_uri": "https://localhost:8080/",
          "height": 428
        }
      }
    },
    {
      "cell_type": "markdown",
      "source": [
        "### Experiment\n",
        "Load up a BetterLife2D object with some patterns that interact in some interesting way.\n",
        "What can we learn from studying interactions like this?   Is anything here applicable to the real world?"
      ],
      "metadata": {
        "collapsed": false,
        "pycharm": {
          "name": "#%% md\n"
        },
        "id": "O1evkdu-vDjs"
      }
    },
    {
      "cell_type": "code",
      "execution_count": 30,
      "outputs": [
        {
          "output_type": "display_data",
          "data": {
            "text/plain": [
              "<Figure size 640x480 with 1 Axes>"
            ],
            "image/png": "[encoded data removed]"
          },
          "metadata": {}
        }
      ],
      "source": [
        "# Ex. 3 code for your experiment here\n",
        "# Defines the glider pattern #Found thses patterns using onlineresources\n",
        "glider_pattern = \"\"\"\n",
        "010\n",
        "001\n",
        "111\n",
        "\"\"\"\n",
        "\n",
        "# Defines the blinker pattern\n",
        "blinker_pattern = \"\"\"\n",
        "010\n",
        "010\n",
        "010\n",
        "\"\"\"\n",
        "\n",
        "# Defines the toad pattern\n",
        "toad_pattern = \"\"\"\n",
        "0000\n",
        "0111\n",
        "1110\n",
        "0000\n",
        "\"\"\"\n",
        "\n",
        "# Parses the patterns\n",
        "glider = parse_pattern(glider_pattern)\n",
        "blinker = parse_pattern(blinker_pattern)\n",
        "toad = parse_pattern(toad_pattern)\n",
        "\n",
        "# Creates a BetterLife2D instance\n",
        "life = BetterLife2D(20)\n",
        "\n",
        "# Loads the patterns into the Life state array at different coordinates\n",
        "life.load_pattern(1, 1, glider)\n",
        "life.load_pattern(5, 5, blinker)\n",
        "life.load_pattern(10, 10, toad)\n",
        "\n",
        "# Visualizes the Life state\n",
        "life.draw()\n",
        "plt.show()\n",
        "\n",
        "#Used gemini to learn about the questions\n",
        "#=>The interactions between patterns in the Game of Life helps us learn complex dynamics, including oscillations, gliding, collisions, and pattern formation.\n",
        "#=>The principles underlying the interactions between patterns in GOL have applications in various real-world systems like how patterns emerge and interact in biological systems which helps us develop strategies for disease control, ecosystem management, and drug design.\n"
      ],
      "metadata": {
        "pycharm": {
          "name": "#%%\n"
        },
        "ExecuteTime": {
          "end_time": "2024-01-06T00:59:32.392005Z",
          "start_time": "2024-01-06T00:59:32.389848Z"
        },
        "id": "4MkIx-Z1vDjs",
        "outputId": "962b2e65-aeca-45e3-bccc-6f4c390d3892",
        "colab": {
          "base_uri": "https://localhost:8080/",
          "height": 428
        }
      }
    }
  ],
  "metadata": {
    "kernelspec": {
      "display_name": "Python 3",
      "language": "python",
      "name": "python3"
    },
    "language_info": {
      "codemirror_mode": {
        "name": "ipython",
        "version": 2
      },
      "file_extension": ".py",
      "mimetype": "text/x-python",
      "name": "python",
      "nbconvert_exporter": "python",
      "pygments_lexer": "ipython2",
      "version": "2.7.6"
    },
    "colab": {
      "provenance": []
    }
  },
  "nbformat": 4,
  "nbformat_minor": 0
}